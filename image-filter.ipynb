{
 "metadata": {
  "name": "",
  "signature": "sha256:edd1a5a64d8a5ed23d1ab299f240ecca0af420d23e35968ace7b65455f5f8efd"
 },
 "nbformat": 3,
 "nbformat_minor": 0,
 "worksheets": [
  {
   "cells": [
    {
     "cell_type": "code",
     "collapsed": false,
     "input": [
      "# Image Filter inspired by Instagram's 'EARLYBIRD'\n",
      "# Alex Johnson\n",
      "# CS 4300 Computer Graphics Assignment 3 \n",
      "# Instagram Reverse Engineering"
     ],
     "language": "python",
     "metadata": {},
     "outputs": [],
     "prompt_number": 1
    },
    {
     "cell_type": "code",
     "collapsed": false,
     "input": [
      "# Format results for IP[y] Notebook\n",
      "%matplotlib inline\n",
      "\n",
      "# Import libs\n",
      "from skimage import data\n",
      "from matplotlib import pyplot as plt, cm\n",
      "import numpy as np\n",
      "\n",
      "# Import skdemo from file"
     ],
     "language": "python",
     "metadata": {},
     "outputs": [],
     "prompt_number": 2
    },
    {
     "cell_type": "code",
     "collapsed": false,
     "input": [],
     "language": "python",
     "metadata": {},
     "outputs": []
    }
   ],
   "metadata": {}
  }
 ]
}